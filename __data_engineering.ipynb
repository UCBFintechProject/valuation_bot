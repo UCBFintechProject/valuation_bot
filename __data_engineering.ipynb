{
 "cells": [
  {
   "cell_type": "markdown",
   "id": "ddbceb7c-bdf8-433e-8cc9-ee98fde1de8d",
   "metadata": {},
   "source": [
    "# Data Engineering"
   ]
  },
  {
   "cell_type": "markdown",
   "id": "9b504c0c-5eda-4529-b2f3-45d5036248c9",
   "metadata": {},
   "source": [
    "## Data Prep\n",
    "\n",
    "From Kaggle.com, we chose this dataset because of the curated company statistics and other indicators.  Ther are balance sheets, cash flow & income reports, and recent value datasets. \n",
    "\n",
    "source: [https://www.kaggle.com/datasets/hanseopark/sp-500-stocks-value-with-financial-statement](https://www.kaggle.com/datasets/hanseopark/sp-500-stocks-value-with-financial-statement)\n",
    "\n",
    "To prepare the data, we used a few existing functions from a notebook that merged some existing compoany financial data from the `data origin`.\n",
    "\n",
    "We merged these reports into a single dataframe and ran a correlation matrix to examine the results.  After all examination, we were left with about 119 companies from which to create a model.\n",
    "\n",
    "We've expored the possibility of creating a model with this data and found too many null values for the full 500 tickers to be included. Many tickers were missing so much info, that there were dropped altogether. We trimmed as little as possible and filled a few remaining slots with thier columns' mean (which would skew things, but we're low on options).\n",
    "\n",
    "Unfortuinately, to use Market Capitalization for ML modal prediction (on our dinky dataset) would require additional data. Specifically, `outstanding_shares` to calculate the market cap.  This was done in an earlier step sin there were only 15 compamnies that had a non-null MarketCap. So we just generated it from the othe roclumns for the remaining 104 companies.\n"
   ]
  },
  {
   "cell_type": "code",
   "execution_count": 4,
   "id": "80e17b48-6af6-458a-b5dd-27d0295276f6",
   "metadata": {},
   "outputs": [],
   "source": [
    "# show data samples and plot, matrix, etc"
   ]
  },
  {
   "cell_type": "markdown",
   "id": "295ab953-6a78-4678-951b-52be79539644",
   "metadata": {},
   "source": [
    "The original data also contains hisorical trade data in ohlcv format, however, the data is stacked. So if we wanted to use this in our analysis, we would still have to transform this to get a time-series across all tickers. We would have lots of trade history, but only have four Quarterly reports to run historic analysis.\n"
   ]
  },
  {
   "cell_type": "code",
   "execution_count": 5,
   "id": "958a063e-8e72-4dde-b89b-0d5f0b047382",
   "metadata": {},
   "outputs": [],
   "source": [
    "# show data samples and plot, matrix, etc"
   ]
  },
  {
   "cell_type": "markdown",
   "id": "cfbcf46f-b781-4310-ad73-7fcd7e8e70d1",
   "metadata": {},
   "source": [
    "---"
   ]
  },
  {
   "cell_type": "markdown",
   "id": "1fea2f21-dfdb-44cb-b3ec-b90394c817a3",
   "metadata": {},
   "source": [
    "## Model Training\n",
    "\n",
    "To predict MarketCap, we created a Linear Regression model.  Our dataset shape is: `(152, 68)`.  So we'll split the data for training and testing at a 30/70 split to start off.\n",
    "\n",
    "With a test data shape of `(38, 37)`, the model predictions are close, but not-so-much.\n",
    "\n",
    "            Prediction\tActual\n",
    "        0\t2.236037e+10\t2.192102e+10\n",
    "        1\t1.169874e+11\t1.007215e+11\n",
    "        2\t1.794584e+11\t2.257415e+10\n",
    "\n",
    "![plot](\"https://github.com/UCBFintechProject/valuation_bot/blob/main/images/ml_test_1.png\")"
   ]
  },
  {
   "cell_type": "markdown",
   "id": "ac035b60-e972-4c8c-9444-73e81e01e937",
   "metadata": {},
   "source": []
  },
  {
   "cell_type": "markdown",
   "id": "2a692462-e32e-435f-bd27-20b9d6d9e25f",
   "metadata": {},
   "source": [
    "---"
   ]
  },
  {
   "cell_type": "code",
   "execution_count": null,
   "id": "267bc072-baa9-4995-8ce6-c2287b70074f",
   "metadata": {},
   "outputs": [],
   "source": []
  }
 ],
 "metadata": {
  "kernelspec": {
   "display_name": "dev",
   "language": "python",
   "name": "dev"
  },
  "language_info": {
   "codemirror_mode": {
    "name": "ipython",
    "version": 3
   },
   "file_extension": ".py",
   "mimetype": "text/x-python",
   "name": "python",
   "nbconvert_exporter": "python",
   "pygments_lexer": "ipython3",
   "version": "3.7.13"
  }
 },
 "nbformat": 4,
 "nbformat_minor": 5
}
