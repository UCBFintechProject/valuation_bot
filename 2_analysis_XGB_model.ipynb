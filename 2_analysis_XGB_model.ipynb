{
 "cells": [
  {
   "cell_type": "markdown",
   "id": "313efb8d-b8c5-4d07-b6e9-cac8eae040a4",
   "metadata": {},
   "source": [
    "# S&P 500 Data Analysis with XGBoost Model\n",
    "\n",
    "We’re interested in building and refining a ML model that can classify a publicly traded company as presently overvalued or undervalued.  This would be based on Financial Statements of all companies trading on SP500 with data starting from 2010 through 2022. Companies can be grouped based on their valuation levels, then we can track if these groupings change over time or mostly stay consistent. \n",
    "\n",
    "We will optimize and compare models using different combinations of features of Financial Statements to find best logic for accurately valuing SP500 stocks. Here’s the dataset that will be used for this analysis:\n",
    "\n",
    "https://www.kaggle.com/datasets/hanseopark/sp-500-stocks-value-with-financial-statement\n"
   ]
  },
  {
   "cell_type": "markdown",
   "id": "f5972a29-5eb3-49de-874c-1a93d8df7f88",
   "metadata": {},
   "source": [
    "### Common Valuation Formulas\n",
    "\n",
    "This looks like it could be a classification problem. For reference. Four common metrics used for company valuation, we'll focus on Market Capitalization for starters.\n",
    "\n",
    "- **Market Capitalization** = Share Price x Total Number of Shares\n",
    "- Discounted Cash Flow = Terminal Cash Flow / (1 + Cost of Capital) # of Years in the Future\n",
    "- Enterprise Value = Debt + Equity - Cash\n",
    "- Value of a Growing Perpetuity = Cash Flow / (Cost of Capital - Growth Rate)"
   ]
  },
  {
   "cell_type": "markdown",
   "id": "61c3ea1b-2ba4-4f3b-86f0-a741a002a37a",
   "metadata": {},
   "source": [
    "---"
   ]
  },
  {
   "cell_type": "code",
   "execution_count": 13,
   "id": "09d6267b-7b9f-40ac-9a88-c3fe91ac5f1d",
   "metadata": {},
   "outputs": [],
   "source": [
    "# Import modules and libraries\n",
    "import os\n",
    "import json\n",
    "import pandas as pd\n",
    "import numpy as np\n",
    "import hvplot.pandas\n",
    "import seaborn as sns\n",
    "import matplotlib.pyplot as plt\n",
    "%matplotlib inline\n",
    "\n",
    "from sklearn.preprocessing import StandardScaler\n",
    "from sklearn.preprocessing import LabelEncoder\n",
    "from sklearn.model_selection import train_test_split\n",
    "from sklearn.ensemble import RandomForestRegressor\n",
    "from sklearn.metrics import classification_report\n",
    "from pickle import dump, load\n",
    "from pathlib import Path\n",
    "from xgboost import XGBClassifier\n",
    "\n",
    "import warnings\n",
    "\n",
    "# Custom classes for interfacing with this dataset\n",
    "from utils.financials import VBot\n",
    "from utils.trades import VBotTrade\n",
    "\n",
    "warnings.filterwarnings(\"ignore\")"
   ]
  },
  {
   "cell_type": "markdown",
   "id": "0b707947-e132-4e09-91f5-96a617da537e",
   "metadata": {},
   "source": [
    "## Data Import\n",
    "\n",
    "Pull in the data from our extensive cleansing process to review the first 3 rows."
   ]
  },
  {
   "cell_type": "code",
   "execution_count": 14,
   "id": "635b7427-5193-493b-8ee2-b6a452aca60a",
   "metadata": {},
   "outputs": [
    {
     "data": {
      "text/html": [
       "<div>\n",
       "<style scoped>\n",
       "    .dataframe tbody tr th:only-of-type {\n",
       "        vertical-align: middle;\n",
       "    }\n",
       "\n",
       "    .dataframe tbody tr th {\n",
       "        vertical-align: top;\n",
       "    }\n",
       "\n",
       "    .dataframe thead th {\n",
       "        text-align: right;\n",
       "    }\n",
       "</style>\n",
       "<table border=\"1\" class=\"dataframe\">\n",
       "  <thead>\n",
       "    <tr style=\"text-align: right;\">\n",
       "      <th></th>\n",
       "      <th>RecentPrice</th>\n",
       "      <th>Beta</th>\n",
       "      <th>AnnualDividendRate</th>\n",
       "      <th>ROE(%)</th>\n",
       "      <th>ROA(%)</th>\n",
       "      <th>ProfitMargin(%)</th>\n",
       "      <th>TotalCash</th>\n",
       "      <th>TotalDebt</th>\n",
       "      <th>OutstandingShares</th>\n",
       "      <th>intangibleAssets</th>\n",
       "      <th>...</th>\n",
       "      <th>depreciation</th>\n",
       "      <th>otherCashflowsFromInvestingActivities</th>\n",
       "      <th>dividendsPaid</th>\n",
       "      <th>changeToAccountReceivables</th>\n",
       "      <th>changeToNetincome</th>\n",
       "      <th>capitalExpenditures</th>\n",
       "      <th>netBorrowings</th>\n",
       "      <th>otherCashflowsFromFinancingActivities</th>\n",
       "      <th>MarketCap</th>\n",
       "      <th>Sector</th>\n",
       "    </tr>\n",
       "    <tr>\n",
       "      <th>Ticker</th>\n",
       "      <th></th>\n",
       "      <th></th>\n",
       "      <th></th>\n",
       "      <th></th>\n",
       "      <th></th>\n",
       "      <th></th>\n",
       "      <th></th>\n",
       "      <th></th>\n",
       "      <th></th>\n",
       "      <th></th>\n",
       "      <th></th>\n",
       "      <th></th>\n",
       "      <th></th>\n",
       "      <th></th>\n",
       "      <th></th>\n",
       "      <th></th>\n",
       "      <th></th>\n",
       "      <th></th>\n",
       "      <th></th>\n",
       "      <th></th>\n",
       "      <th></th>\n",
       "    </tr>\n",
       "  </thead>\n",
       "  <tbody>\n",
       "    <tr>\n",
       "      <th>A</th>\n",
       "      <td>126.440002</td>\n",
       "      <td>1.05</td>\n",
       "      <td>0.79</td>\n",
       "      <td>24.200000</td>\n",
       "      <td>9.12</td>\n",
       "      <td>18.70</td>\n",
       "      <td>38600000.0</td>\n",
       "      <td>5.634000e+08</td>\n",
       "      <td>300110000.0</td>\n",
       "      <td>9.290000e+08</td>\n",
       "      <td>...</td>\n",
       "      <td>82000000.0</td>\n",
       "      <td>-1.000000e+06</td>\n",
       "      <td>-6.300000e+07</td>\n",
       "      <td>-46000000.0</td>\n",
       "      <td>1.230000e+08</td>\n",
       "      <td>-75000000.0</td>\n",
       "      <td>-3.774672e+08</td>\n",
       "      <td>1.247088e+09</td>\n",
       "      <td>3.794591e+10</td>\n",
       "      <td>Health Care</td>\n",
       "    </tr>\n",
       "    <tr>\n",
       "      <th>AAL</th>\n",
       "      <td>19.000000</td>\n",
       "      <td>1.59</td>\n",
       "      <td>0.00</td>\n",
       "      <td>57.579716</td>\n",
       "      <td>-5.04</td>\n",
       "      <td>-6.67</td>\n",
       "      <td>191500000.0</td>\n",
       "      <td>1.346056e+09</td>\n",
       "      <td>649160000.0</td>\n",
       "      <td>1.988000e+09</td>\n",
       "      <td>...</td>\n",
       "      <td>660000000.0</td>\n",
       "      <td>4.800000e+07</td>\n",
       "      <td>-4.160114e+08</td>\n",
       "      <td>-304000000.0</td>\n",
       "      <td>-1.969000e+09</td>\n",
       "      <td>-387000000.0</td>\n",
       "      <td>-6.100000e+08</td>\n",
       "      <td>5.400000e+07</td>\n",
       "      <td>1.233404e+10</td>\n",
       "      <td>NaN</td>\n",
       "    </tr>\n",
       "    <tr>\n",
       "      <th>AAP</th>\n",
       "      <td>218.679993</td>\n",
       "      <td>1.29</td>\n",
       "      <td>3.25</td>\n",
       "      <td>18.420000</td>\n",
       "      <td>4.69</td>\n",
       "      <td>5.60</td>\n",
       "      <td>99300000.0</td>\n",
       "      <td>1.226600e+09</td>\n",
       "      <td>61090000.0</td>\n",
       "      <td>6.512170e+08</td>\n",
       "      <td>...</td>\n",
       "      <td>65196000.0</td>\n",
       "      <td>1.078166e+08</td>\n",
       "      <td>-4.160114e+08</td>\n",
       "      <td>147953000.0</td>\n",
       "      <td>4.121900e+07</td>\n",
       "      <td>-98656000.0</td>\n",
       "      <td>-3.774672e+08</td>\n",
       "      <td>-7.000000e+03</td>\n",
       "      <td>1.335916e+10</td>\n",
       "      <td>NaN</td>\n",
       "    </tr>\n",
       "  </tbody>\n",
       "</table>\n",
       "<p>3 rows × 69 columns</p>\n",
       "</div>"
      ],
      "text/plain": [
       "        RecentPrice  Beta  AnnualDividendRate     ROE(%)  ROA(%)  \\\n",
       "Ticker                                                             \n",
       "A        126.440002  1.05                0.79  24.200000    9.12   \n",
       "AAL       19.000000  1.59                0.00  57.579716   -5.04   \n",
       "AAP      218.679993  1.29                3.25  18.420000    4.69   \n",
       "\n",
       "        ProfitMargin(%)    TotalCash     TotalDebt  OutstandingShares  \\\n",
       "Ticker                                                                  \n",
       "A                 18.70   38600000.0  5.634000e+08        300110000.0   \n",
       "AAL               -6.67  191500000.0  1.346056e+09        649160000.0   \n",
       "AAP                5.60   99300000.0  1.226600e+09         61090000.0   \n",
       "\n",
       "        intangibleAssets  ...  depreciation  \\\n",
       "Ticker                    ...                 \n",
       "A           9.290000e+08  ...    82000000.0   \n",
       "AAL         1.988000e+09  ...   660000000.0   \n",
       "AAP         6.512170e+08  ...    65196000.0   \n",
       "\n",
       "        otherCashflowsFromInvestingActivities  dividendsPaid  \\\n",
       "Ticker                                                         \n",
       "A                               -1.000000e+06  -6.300000e+07   \n",
       "AAL                              4.800000e+07  -4.160114e+08   \n",
       "AAP                              1.078166e+08  -4.160114e+08   \n",
       "\n",
       "        changeToAccountReceivables  changeToNetincome  capitalExpenditures  \\\n",
       "Ticker                                                                       \n",
       "A                      -46000000.0       1.230000e+08          -75000000.0   \n",
       "AAL                   -304000000.0      -1.969000e+09         -387000000.0   \n",
       "AAP                    147953000.0       4.121900e+07          -98656000.0   \n",
       "\n",
       "        netBorrowings  otherCashflowsFromFinancingActivities     MarketCap  \\\n",
       "Ticker                                                                       \n",
       "A       -3.774672e+08                           1.247088e+09  3.794591e+10   \n",
       "AAL     -6.100000e+08                           5.400000e+07  1.233404e+10   \n",
       "AAP     -3.774672e+08                          -7.000000e+03  1.335916e+10   \n",
       "\n",
       "             Sector  \n",
       "Ticker               \n",
       "A       Health Care  \n",
       "AAL             NaN  \n",
       "AAP             NaN  \n",
       "\n",
       "[3 rows x 69 columns]"
      ]
     },
     "execution_count": 14,
     "metadata": {},
     "output_type": "execute_result"
    }
   ],
   "source": [
    "# Read in data\n",
    "data = Path(\"data/sp_500_merged_wsectors_data.csv\")\n",
    "df = pd.read_csv(data, delimiter=\",\").rename(columns={\"Unnamed: 0\":\"Ticker\"})\n",
    "df = df.set_index(\"Ticker\")\n",
    "df.drop(columns=[\"0\"], inplace=True) ### <=====\n",
    "\n",
    "df.head(3)"
   ]
  },
  {
   "cell_type": "code",
   "execution_count": 15,
   "id": "075766c7-bd06-401e-a653-cddf93919a77",
   "metadata": {},
   "outputs": [
    {
     "data": {
      "text/plain": [
       "(152, 69)"
      ]
     },
     "execution_count": 15,
     "metadata": {},
     "output_type": "execute_result"
    }
   ],
   "source": [
    "df.shape"
   ]
  },
  {
   "cell_type": "markdown",
   "id": "5f3daccc-9ad2-4c18-8800-3ed77360bcdc",
   "metadata": {},
   "source": [
    "## Split Build Fit and Train a RandomForestRegressor() Model\n"
   ]
  },
  {
   "cell_type": "code",
   "execution_count": 19,
   "id": "21474ad4-442a-4f91-86b1-6343bd39c1a8",
   "metadata": {},
   "outputs": [],
   "source": [
    "# Instantiate the model\n",
    "xgb = XGBClassifier(n_estimators = 400, learning_rate = 0.1, max_depth = 3)"
   ]
  },
  {
   "cell_type": "code",
   "execution_count": 20,
   "id": "23c1b60e-abff-4c66-8c64-075cd265b6dc",
   "metadata": {},
   "outputs": [],
   "source": [
    "data = df.dropna()\n",
    "y = data['MarketCap']\n",
    "X = data.drop(columns='MarketCap')"
   ]
  },
  {
   "cell_type": "code",
   "execution_count": 21,
   "id": "08913d17-55ad-4288-93f5-88f252114baf",
   "metadata": {},
   "outputs": [],
   "source": [
    "# Encode the categorical variables using get_dummies\n",
    "X = pd.get_dummies(X)"
   ]
  },
  {
   "cell_type": "code",
   "execution_count": 29,
   "id": "8d187345-c4a5-4179-bb44-2ce291243cae",
   "metadata": {},
   "outputs": [],
   "source": [
    "# Split dataset\n",
    "seed = 7\n",
    "test_size = 1\n",
    "X_train, X_test, y_train, y_test = train_test_split(X, y, test_size=test_size, random_state=seed)"
   ]
  },
  {
   "cell_type": "code",
   "execution_count": 30,
   "id": "f9b754ae-cd21-492a-99dc-b7a9be42155d",
   "metadata": {},
   "outputs": [
    {
     "data": {
      "text/plain": [
       "Ticker\n",
       "BA    1.069261e+10\n",
       "Name: MarketCap, dtype: float64"
      ]
     },
     "metadata": {},
     "output_type": "display_data"
    },
    {
     "data": {
      "text/html": [
       "<div>\n",
       "<style scoped>\n",
       "    .dataframe tbody tr th:only-of-type {\n",
       "        vertical-align: middle;\n",
       "    }\n",
       "\n",
       "    .dataframe tbody tr th {\n",
       "        vertical-align: top;\n",
       "    }\n",
       "\n",
       "    .dataframe thead th {\n",
       "        text-align: right;\n",
       "    }\n",
       "</style>\n",
       "<table border=\"1\" class=\"dataframe\">\n",
       "  <thead>\n",
       "    <tr style=\"text-align: right;\">\n",
       "      <th></th>\n",
       "      <th>RecentPrice</th>\n",
       "      <th>Beta</th>\n",
       "      <th>AnnualDividendRate</th>\n",
       "      <th>ROE(%)</th>\n",
       "      <th>ROA(%)</th>\n",
       "      <th>ProfitMargin(%)</th>\n",
       "      <th>TotalCash</th>\n",
       "      <th>TotalDebt</th>\n",
       "      <th>OutstandingShares</th>\n",
       "      <th>intangibleAssets</th>\n",
       "      <th>...</th>\n",
       "      <th>Sector_Consumer Discretionary</th>\n",
       "      <th>Sector_Consumer Staples</th>\n",
       "      <th>Sector_Energy</th>\n",
       "      <th>Sector_Financials</th>\n",
       "      <th>Sector_Health Care</th>\n",
       "      <th>Sector_Industrials</th>\n",
       "      <th>Sector_Information Technology</th>\n",
       "      <th>Sector_Materials</th>\n",
       "      <th>Sector_Telecommunications Services</th>\n",
       "      <th>Sector_Utilities</th>\n",
       "    </tr>\n",
       "    <tr>\n",
       "      <th>Ticker</th>\n",
       "      <th></th>\n",
       "      <th></th>\n",
       "      <th></th>\n",
       "      <th></th>\n",
       "      <th></th>\n",
       "      <th></th>\n",
       "      <th></th>\n",
       "      <th></th>\n",
       "      <th></th>\n",
       "      <th></th>\n",
       "      <th></th>\n",
       "      <th></th>\n",
       "      <th></th>\n",
       "      <th></th>\n",
       "      <th></th>\n",
       "      <th></th>\n",
       "      <th></th>\n",
       "      <th></th>\n",
       "      <th></th>\n",
       "      <th></th>\n",
       "      <th></th>\n",
       "    </tr>\n",
       "  </thead>\n",
       "  <tbody>\n",
       "    <tr>\n",
       "      <th>BA</th>\n",
       "      <td>181.940002</td>\n",
       "      <td>1.47</td>\n",
       "      <td>0.0</td>\n",
       "      <td>57.579716</td>\n",
       "      <td>-0.22</td>\n",
       "      <td>-6.75</td>\n",
       "      <td>278600000.0</td>\n",
       "      <td>1.346056e+09</td>\n",
       "      <td>58770000.0</td>\n",
       "      <td>2.562000e+09</td>\n",
       "      <td>...</td>\n",
       "      <td>0</td>\n",
       "      <td>0</td>\n",
       "      <td>0</td>\n",
       "      <td>0</td>\n",
       "      <td>0</td>\n",
       "      <td>1</td>\n",
       "      <td>0</td>\n",
       "      <td>0</td>\n",
       "      <td>0</td>\n",
       "      <td>0</td>\n",
       "    </tr>\n",
       "  </tbody>\n",
       "</table>\n",
       "<p>1 rows × 77 columns</p>\n",
       "</div>"
      ],
      "text/plain": [
       "        RecentPrice  Beta  AnnualDividendRate     ROE(%)  ROA(%)  \\\n",
       "Ticker                                                             \n",
       "BA       181.940002  1.47                 0.0  57.579716   -0.22   \n",
       "\n",
       "        ProfitMargin(%)    TotalCash     TotalDebt  OutstandingShares  \\\n",
       "Ticker                                                                  \n",
       "BA                -6.75  278600000.0  1.346056e+09         58770000.0   \n",
       "\n",
       "        intangibleAssets  ...  Sector_Consumer Discretionary  \\\n",
       "Ticker                    ...                                  \n",
       "BA          2.562000e+09  ...                              0   \n",
       "\n",
       "        Sector_Consumer Staples  Sector_Energy  Sector_Financials  \\\n",
       "Ticker                                                              \n",
       "BA                            0              0                  0   \n",
       "\n",
       "        Sector_Health Care  Sector_Industrials  Sector_Information Technology  \\\n",
       "Ticker                                                                          \n",
       "BA                       0                   1                              0   \n",
       "\n",
       "        Sector_Materials  Sector_Telecommunications Services  Sector_Utilities  \n",
       "Ticker                                                                          \n",
       "BA                     0                                   0                 0  \n",
       "\n",
       "[1 rows x 77 columns]"
      ]
     },
     "metadata": {},
     "output_type": "display_data"
    }
   ],
   "source": [
    "display(y_test.head(3))\n",
    "display(X_test.head(3))"
   ]
  },
  {
   "cell_type": "code",
   "execution_count": 31,
   "id": "97b465d4-4fce-48d0-abbd-452d901c748d",
   "metadata": {},
   "outputs": [
    {
     "data": {
      "text/plain": [
       "(1, 77)"
      ]
     },
     "execution_count": 31,
     "metadata": {},
     "output_type": "execute_result"
    }
   ],
   "source": [
    "X_test.shape"
   ]
  },
  {
   "cell_type": "code",
   "execution_count": 32,
   "id": "05fc8d9f-3d4e-4d3e-a6a6-3e9da0b0a3e5",
   "metadata": {},
   "outputs": [],
   "source": [
    "# Scale the data\n",
    "scaler = StandardScaler()\n",
    "X_scaler = scaler.fit(X_train)\n",
    "X_train_scaled = X_scaler.transform(X_train)\n",
    "X_test_scaled = X_scaler.transform(X_test)"
   ]
  },
  {
   "cell_type": "code",
   "execution_count": 34,
   "id": "a57b5d02-e3cd-4a12-8160-2e171b657744",
   "metadata": {},
   "outputs": [
    {
     "data": {
      "text/html": [
       "<style>#sk-container-id-1 {color: black;background-color: white;}#sk-container-id-1 pre{padding: 0;}#sk-container-id-1 div.sk-toggleable {background-color: white;}#sk-container-id-1 label.sk-toggleable__label {cursor: pointer;display: block;width: 100%;margin-bottom: 0;padding: 0.3em;box-sizing: border-box;text-align: center;}#sk-container-id-1 label.sk-toggleable__label-arrow:before {content: \"▸\";float: left;margin-right: 0.25em;color: #696969;}#sk-container-id-1 label.sk-toggleable__label-arrow:hover:before {color: black;}#sk-container-id-1 div.sk-estimator:hover label.sk-toggleable__label-arrow:before {color: black;}#sk-container-id-1 div.sk-toggleable__content {max-height: 0;max-width: 0;overflow: hidden;text-align: left;background-color: #f0f8ff;}#sk-container-id-1 div.sk-toggleable__content pre {margin: 0.2em;color: black;border-radius: 0.25em;background-color: #f0f8ff;}#sk-container-id-1 input.sk-toggleable__control:checked~div.sk-toggleable__content {max-height: 200px;max-width: 100%;overflow: auto;}#sk-container-id-1 input.sk-toggleable__control:checked~label.sk-toggleable__label-arrow:before {content: \"▾\";}#sk-container-id-1 div.sk-estimator input.sk-toggleable__control:checked~label.sk-toggleable__label {background-color: #d4ebff;}#sk-container-id-1 div.sk-label input.sk-toggleable__control:checked~label.sk-toggleable__label {background-color: #d4ebff;}#sk-container-id-1 input.sk-hidden--visually {border: 0;clip: rect(1px 1px 1px 1px);clip: rect(1px, 1px, 1px, 1px);height: 1px;margin: -1px;overflow: hidden;padding: 0;position: absolute;width: 1px;}#sk-container-id-1 div.sk-estimator {font-family: monospace;background-color: #f0f8ff;border: 1px dotted black;border-radius: 0.25em;box-sizing: border-box;margin-bottom: 0.5em;}#sk-container-id-1 div.sk-estimator:hover {background-color: #d4ebff;}#sk-container-id-1 div.sk-parallel-item::after {content: \"\";width: 100%;border-bottom: 1px solid gray;flex-grow: 1;}#sk-container-id-1 div.sk-label:hover label.sk-toggleable__label {background-color: #d4ebff;}#sk-container-id-1 div.sk-serial::before {content: \"\";position: absolute;border-left: 1px solid gray;box-sizing: border-box;top: 0;bottom: 0;left: 50%;z-index: 0;}#sk-container-id-1 div.sk-serial {display: flex;flex-direction: column;align-items: center;background-color: white;padding-right: 0.2em;padding-left: 0.2em;position: relative;}#sk-container-id-1 div.sk-item {position: relative;z-index: 1;}#sk-container-id-1 div.sk-parallel {display: flex;align-items: stretch;justify-content: center;background-color: white;position: relative;}#sk-container-id-1 div.sk-item::before, #sk-container-id-1 div.sk-parallel-item::before {content: \"\";position: absolute;border-left: 1px solid gray;box-sizing: border-box;top: 0;bottom: 0;left: 50%;z-index: -1;}#sk-container-id-1 div.sk-parallel-item {display: flex;flex-direction: column;z-index: 1;position: relative;background-color: white;}#sk-container-id-1 div.sk-parallel-item:first-child::after {align-self: flex-end;width: 50%;}#sk-container-id-1 div.sk-parallel-item:last-child::after {align-self: flex-start;width: 50%;}#sk-container-id-1 div.sk-parallel-item:only-child::after {width: 0;}#sk-container-id-1 div.sk-dashed-wrapped {border: 1px dashed gray;margin: 0 0.4em 0.5em 0.4em;box-sizing: border-box;padding-bottom: 0.4em;background-color: white;}#sk-container-id-1 div.sk-label label {font-family: monospace;font-weight: bold;display: inline-block;line-height: 1.2em;}#sk-container-id-1 div.sk-label-container {text-align: center;}#sk-container-id-1 div.sk-container {/* jupyter's `normalize.less` sets `[hidden] { display: none; }` but bootstrap.min.css set `[hidden] { display: none !important; }` so we also need the `!important` here to be able to override the default hidden behavior on the sphinx rendered scikit-learn.org. See: https://github.com/scikit-learn/scikit-learn/issues/21755 */display: inline-block !important;position: relative;}#sk-container-id-1 div.sk-text-repr-fallback {display: none;}</style><div id=\"sk-container-id-1\" class=\"sk-top-container\"><div class=\"sk-text-repr-fallback\"><pre>XGBClassifier(base_score=0.5, booster=&#x27;gbtree&#x27;, callbacks=None,\n",
       "              colsample_bylevel=1, colsample_bynode=1, colsample_bytree=1,\n",
       "              early_stopping_rounds=None, enable_categorical=False,\n",
       "              eval_metric=None, gamma=0, gpu_id=-1, grow_policy=&#x27;depthwise&#x27;,\n",
       "              importance_type=None, interaction_constraints=&#x27;&#x27;,\n",
       "              learning_rate=0.1, max_bin=256, max_cat_to_onehot=4,\n",
       "              max_delta_step=0, max_depth=3, max_leaves=0, min_child_weight=1,\n",
       "              missing=nan, monotone_constraints=&#x27;()&#x27;, n_estimators=400,\n",
       "              n_jobs=0, num_parallel_tree=1, objective=&#x27;multi:softprob&#x27;,\n",
       "              predictor=&#x27;auto&#x27;, random_state=0, reg_alpha=0, ...)</pre><b>In a Jupyter environment, please rerun this cell to show the HTML representation or trust the notebook. <br />On GitHub, the HTML representation is unable to render, please try loading this page with nbviewer.org.</b></div><div class=\"sk-container\" hidden><div class=\"sk-item\"><div class=\"sk-estimator sk-toggleable\"><input class=\"sk-toggleable__control sk-hidden--visually\" id=\"sk-estimator-id-1\" type=\"checkbox\" checked><label for=\"sk-estimator-id-1\" class=\"sk-toggleable__label sk-toggleable__label-arrow\">XGBClassifier</label><div class=\"sk-toggleable__content\"><pre>XGBClassifier(base_score=0.5, booster=&#x27;gbtree&#x27;, callbacks=None,\n",
       "              colsample_bylevel=1, colsample_bynode=1, colsample_bytree=1,\n",
       "              early_stopping_rounds=None, enable_categorical=False,\n",
       "              eval_metric=None, gamma=0, gpu_id=-1, grow_policy=&#x27;depthwise&#x27;,\n",
       "              importance_type=None, interaction_constraints=&#x27;&#x27;,\n",
       "              learning_rate=0.1, max_bin=256, max_cat_to_onehot=4,\n",
       "              max_delta_step=0, max_depth=3, max_leaves=0, min_child_weight=1,\n",
       "              missing=nan, monotone_constraints=&#x27;()&#x27;, n_estimators=400,\n",
       "              n_jobs=0, num_parallel_tree=1, objective=&#x27;multi:softprob&#x27;,\n",
       "              predictor=&#x27;auto&#x27;, random_state=0, reg_alpha=0, ...)</pre></div></div></div></div></div>"
      ],
      "text/plain": [
       "XGBClassifier(base_score=0.5, booster='gbtree', callbacks=None,\n",
       "              colsample_bylevel=1, colsample_bynode=1, colsample_bytree=1,\n",
       "              early_stopping_rounds=None, enable_categorical=False,\n",
       "              eval_metric=None, gamma=0, gpu_id=-1, grow_policy='depthwise',\n",
       "              importance_type=None, interaction_constraints='',\n",
       "              learning_rate=0.1, max_bin=256, max_cat_to_onehot=4,\n",
       "              max_delta_step=0, max_depth=3, max_leaves=0, min_child_weight=1,\n",
       "              missing=nan, monotone_constraints='()', n_estimators=400,\n",
       "              n_jobs=0, num_parallel_tree=1, objective='multi:softprob',\n",
       "              predictor='auto', random_state=0, reg_alpha=0, ...)"
      ]
     },
     "execution_count": 34,
     "metadata": {},
     "output_type": "execute_result"
    }
   ],
   "source": [
    "# Fit the data\n",
    "le = LabelEncoder()\n",
    "y_train = le.fit_transform(y_train)\n",
    "xgb.fit(X_train.values, y_train)"
   ]
  },
  {
   "cell_type": "code",
   "execution_count": 36,
   "id": "2e3fa7d6-6e91-43ed-8e54-c8bc81badb6b",
   "metadata": {},
   "outputs": [
    {
     "data": {
      "text/plain": [
       "RecentPrice                           181.940002\n",
       "Beta                                    1.470000\n",
       "AnnualDividendRate                      0.000000\n",
       "ROE(%)                                 57.579716\n",
       "ROA(%)                                 -0.220000\n",
       "                                         ...    \n",
       "Sector_Industrials                      1.000000\n",
       "Sector_Information Technology           0.000000\n",
       "Sector_Materials                        0.000000\n",
       "Sector_Telecommunications Services      0.000000\n",
       "Sector_Utilities                        0.000000\n",
       "Name: BA, Length: 77, dtype: float64"
      ]
     },
     "execution_count": 36,
     "metadata": {},
     "output_type": "execute_result"
    }
   ],
   "source": [
    "# Create a list of feature values for prediction test\n",
    "x_test_list = X_test.iloc[0].tolist()\n",
    "X_test.iloc[0]#.index"
   ]
  },
  {
   "cell_type": "code",
   "execution_count": 38,
   "id": "a699ce45-d7d5-411e-b864-ae440413034d",
   "metadata": {},
   "outputs": [
    {
     "data": {
      "text/html": [
       "<div>\n",
       "<style scoped>\n",
       "    .dataframe tbody tr th:only-of-type {\n",
       "        vertical-align: middle;\n",
       "    }\n",
       "\n",
       "    .dataframe tbody tr th {\n",
       "        vertical-align: top;\n",
       "    }\n",
       "\n",
       "    .dataframe thead th {\n",
       "        text-align: right;\n",
       "    }\n",
       "</style>\n",
       "<table border=\"1\" class=\"dataframe\">\n",
       "  <thead>\n",
       "    <tr style=\"text-align: right;\">\n",
       "      <th></th>\n",
       "      <th>Prediction</th>\n",
       "      <th>Actual</th>\n",
       "    </tr>\n",
       "    <tr>\n",
       "      <th>Ticker</th>\n",
       "      <th></th>\n",
       "      <th></th>\n",
       "    </tr>\n",
       "  </thead>\n",
       "  <tbody>\n",
       "    <tr>\n",
       "      <th>BA</th>\n",
       "      <td>0</td>\n",
       "      <td>1.069261e+10</td>\n",
       "    </tr>\n",
       "  </tbody>\n",
       "</table>\n",
       "</div>"
      ],
      "text/plain": [
       "        Prediction        Actual\n",
       "Ticker                          \n",
       "BA               0  1.069261e+10"
      ]
     },
     "execution_count": 38,
     "metadata": {},
     "output_type": "execute_result"
    }
   ],
   "source": [
    "# Make prediction dataframe using the test data\n",
    "y_pred = xgb.predict(X_test_scaled)\n",
    "ticlist = X_test.index.tolist()\n",
    "results = pd.DataFrame({\n",
    "    \"Prediction\": y_pred, \n",
    "    \"Actual\": y_test,\n",
    "    \"Ticker\": ticlist\n",
    "}).set_index(\"Ticker\") #.reset_index(drop=True)\n",
    "\n",
    "results.head(5)"
   ]
  },
  {
   "cell_type": "code",
   "execution_count": 39,
   "id": "cb1fdd9b-5cbe-44df-8d74-14139b40fc36",
   "metadata": {},
   "outputs": [
    {
     "data": {},
     "metadata": {},
     "output_type": "display_data"
    },
    {
     "data": {
      "application/vnd.holoviews_exec.v0+json": "",
      "text/html": [
       "<div id='1002'>\n",
       "\n",
       "\n",
       "\n",
       "\n",
       "\n",
       "  <div class=\"bk-root\" id=\"712f2f53-cd49-4b43-9e24-658618b94623\" data-root-id=\"1002\"></div>\n",
       "</div>\n",
       "<script type=\"application/javascript\">(function(root) {\n",
       "  function embed_document(root) {\n",
       "    var docs_json = {\"d5bb1ba4-d9ef-4f40-ac48-99face27f834\":{\"defs\":[{\"extends\":null,\"module\":null,\"name\":\"ReactiveHTML1\",\"overrides\":[],\"properties\":[]},{\"extends\":null,\"module\":null,\"name\":\"FlexBox1\",\"overrides\":[],\"properties\":[{\"default\":\"flex-start\",\"kind\":null,\"name\":\"align_content\"},{\"default\":\"flex-start\",\"kind\":null,\"name\":\"align_items\"},{\"default\":\"row\",\"kind\":null,\"name\":\"flex_direction\"},{\"default\":\"wrap\",\"kind\":null,\"name\":\"flex_wrap\"},{\"default\":\"flex-start\",\"kind\":null,\"name\":\"justify_content\"}]},{\"extends\":null,\"module\":null,\"name\":\"GridStack1\",\"overrides\":[],\"properties\":[{\"default\":\"warn\",\"kind\":null,\"name\":\"mode\"},{\"default\":null,\"kind\":null,\"name\":\"ncols\"},{\"default\":null,\"kind\":null,\"name\":\"nrows\"},{\"default\":true,\"kind\":null,\"name\":\"allow_resize\"},{\"default\":true,\"kind\":null,\"name\":\"allow_drag\"},{\"default\":[],\"kind\":null,\"name\":\"state\"}]},{\"extends\":null,\"module\":null,\"name\":\"click1\",\"overrides\":[],\"properties\":[{\"default\":\"\",\"kind\":null,\"name\":\"terminal_output\"},{\"default\":\"\",\"kind\":null,\"name\":\"debug_name\"},{\"default\":0,\"kind\":null,\"name\":\"clears\"}]},{\"extends\":null,\"module\":null,\"name\":\"TemplateActions1\",\"overrides\":[],\"properties\":[{\"default\":0,\"kind\":null,\"name\":\"open_modal\"},{\"default\":0,\"kind\":null,\"name\":\"close_modal\"}]},{\"extends\":null,\"module\":null,\"name\":\"MaterialTemplateActions1\",\"overrides\":[],\"properties\":[{\"default\":0,\"kind\":null,\"name\":\"open_modal\"},{\"default\":0,\"kind\":null,\"name\":\"close_modal\"}]}],\"roots\":{\"references\":[{\"attributes\":{\"line_color\":\"#30a2da\",\"line_width\":2,\"x\":{\"field\":\"Ticker\"},\"y\":{\"field\":\"value\"}},\"id\":\"1046\",\"type\":\"Line\"},{\"attributes\":{},\"id\":\"1018\",\"type\":\"CategoricalTicker\"},{\"attributes\":{\"line_alpha\":0.1,\"line_color\":\"#30a2da\",\"line_width\":2,\"x\":{\"field\":\"Ticker\"},\"y\":{\"field\":\"value\"}},\"id\":\"1047\",\"type\":\"Line\"},{\"attributes\":{\"callback\":null,\"renderers\":[{\"id\":\"1049\"},{\"id\":\"1070\"}],\"tags\":[\"hv_created\"],\"tooltips\":[[\"Variable\",\"@{Variable}\"],[\"Ticker\",\"@{Ticker}\"],[\"value\",\"@{value}\"]]},\"id\":\"1006\",\"type\":\"HoverTool\"},{\"attributes\":{},\"id\":\"1015\",\"type\":\"LinearScale\"},{\"attributes\":{\"axis_label\":\"Ticker\",\"coordinates\":null,\"formatter\":{\"id\":\"1038\"},\"group\":null,\"major_label_orientation\":1.0471975511965976,\"major_label_policy\":{\"id\":\"1039\"},\"ticker\":{\"id\":\"1018\"}},\"id\":\"1017\",\"type\":\"CategoricalAxis\"},{\"attributes\":{\"line_alpha\":0.2,\"line_color\":\"#fc4f30\",\"line_width\":2,\"x\":{\"field\":\"Ticker\"},\"y\":{\"field\":\"value\"}},\"id\":\"1069\",\"type\":\"Line\"},{\"attributes\":{\"children\":[{\"id\":\"1003\"},{\"id\":\"1008\"},{\"id\":\"1194\"}],\"margin\":[0,0,0,0],\"name\":\"Row01701\",\"tags\":[\"embedded\"]},\"id\":\"1002\",\"type\":\"Row\"},{\"attributes\":{},\"id\":\"1081\",\"type\":\"UnionRenderers\"},{\"attributes\":{\"margin\":[5,5,5,5],\"name\":\"HSpacer01705\",\"sizing_mode\":\"stretch_width\"},\"id\":\"1003\",\"type\":\"Spacer\"},{\"attributes\":{\"factors\":[\"BA\"],\"tags\":[[[\"Ticker\",\"Ticker\",null]]]},\"id\":\"1004\",\"type\":\"FactorRange\"},{\"attributes\":{},\"id\":\"1042\",\"type\":\"AllLabels\"},{\"attributes\":{},\"id\":\"1021\",\"type\":\"BasicTicker\"},{\"attributes\":{\"coordinates\":null,\"group\":null,\"text\":\"XG Boost Model on Market Capitalization - 37 Predictions\",\"text_color\":\"black\",\"text_font_size\":\"12pt\"},\"id\":\"1009\",\"type\":\"Title\"},{\"attributes\":{},\"id\":\"1044\",\"type\":\"Selection\"},{\"attributes\":{\"source\":{\"id\":\"1064\"}},\"id\":\"1071\",\"type\":\"CDSView\"},{\"attributes\":{\"axis\":{\"id\":\"1020\"},\"coordinates\":null,\"dimension\":1,\"grid_line_color\":null,\"group\":null,\"ticker\":null},\"id\":\"1023\",\"type\":\"Grid\"},{\"attributes\":{\"line_color\":\"#fc4f30\",\"line_width\":2,\"x\":{\"field\":\"Ticker\"},\"y\":{\"field\":\"value\"}},\"id\":\"1067\",\"type\":\"Line\"},{\"attributes\":{\"axis\":{\"id\":\"1017\"},\"coordinates\":null,\"grid_line_color\":null,\"group\":null,\"ticker\":null},\"id\":\"1019\",\"type\":\"Grid\"},{\"attributes\":{\"axis_label\":\"\",\"coordinates\":null,\"formatter\":{\"id\":\"1041\"},\"group\":null,\"major_label_policy\":{\"id\":\"1042\"},\"ticker\":{\"id\":\"1021\"}},\"id\":\"1020\",\"type\":\"LinearAxis\"},{\"attributes\":{},\"id\":\"1041\",\"type\":\"BasicTickFormatter\"},{\"attributes\":{\"data\":{\"Ticker\":[\"BA\"],\"Variable\":[\"Prediction\"],\"value\":[0]},\"selected\":{\"id\":\"1044\"},\"selection_policy\":{\"id\":\"1058\"}},\"id\":\"1043\",\"type\":\"ColumnDataSource\"},{\"attributes\":{},\"id\":\"1024\",\"type\":\"SaveTool\"},{\"attributes\":{},\"id\":\"1025\",\"type\":\"PanTool\"},{\"attributes\":{},\"id\":\"1026\",\"type\":\"WheelZoomTool\"},{\"attributes\":{\"overlay\":{\"id\":\"1029\"}},\"id\":\"1027\",\"type\":\"BoxZoomTool\"},{\"attributes\":{},\"id\":\"1058\",\"type\":\"UnionRenderers\"},{\"attributes\":{},\"id\":\"1028\",\"type\":\"ResetTool\"},{\"attributes\":{\"tools\":[{\"id\":\"1006\"},{\"id\":\"1024\"},{\"id\":\"1025\"},{\"id\":\"1026\"},{\"id\":\"1027\"},{\"id\":\"1028\"}]},\"id\":\"1030\",\"type\":\"Toolbar\"},{\"attributes\":{\"click_policy\":\"mute\",\"coordinates\":null,\"group\":null,\"items\":[{\"id\":\"1062\"},{\"id\":\"1084\"}],\"location\":[0,0],\"title\":\"Variable\"},\"id\":\"1061\",\"type\":\"Legend\"},{\"attributes\":{\"coordinates\":null,\"data_source\":{\"id\":\"1043\"},\"glyph\":{\"id\":\"1046\"},\"group\":null,\"hover_glyph\":null,\"muted_glyph\":{\"id\":\"1048\"},\"nonselection_glyph\":{\"id\":\"1047\"},\"selection_glyph\":{\"id\":\"1063\"},\"view\":{\"id\":\"1050\"}},\"id\":\"1049\",\"type\":\"GlyphRenderer\"},{\"attributes\":{\"data\":{\"Ticker\":[\"BA\"],\"Variable\":[\"Actual\"],\"value\":{\"__ndarray__\":\"Ptm7uaLqA0I=\",\"dtype\":\"float64\",\"order\":\"little\",\"shape\":[1]}},\"selected\":{\"id\":\"1065\"},\"selection_policy\":{\"id\":\"1081\"}},\"id\":\"1064\",\"type\":\"ColumnDataSource\"},{\"attributes\":{\"line_alpha\":0.1,\"line_color\":\"#fc4f30\",\"line_width\":2,\"x\":{\"field\":\"Ticker\"},\"y\":{\"field\":\"value\"}},\"id\":\"1068\",\"type\":\"Line\"},{\"attributes\":{\"label\":{\"value\":\"Actual\"},\"renderers\":[{\"id\":\"1070\"}]},\"id\":\"1084\",\"type\":\"LegendItem\"},{\"attributes\":{\"coordinates\":null,\"data_source\":{\"id\":\"1064\"},\"glyph\":{\"id\":\"1067\"},\"group\":null,\"hover_glyph\":null,\"muted_glyph\":{\"id\":\"1069\"},\"nonselection_glyph\":{\"id\":\"1068\"},\"selection_glyph\":{\"id\":\"1085\"},\"view\":{\"id\":\"1071\"}},\"id\":\"1070\",\"type\":\"GlyphRenderer\"},{\"attributes\":{},\"id\":\"1065\",\"type\":\"Selection\"},{\"attributes\":{},\"id\":\"1013\",\"type\":\"CategoricalScale\"},{\"attributes\":{\"line_color\":\"#30a2da\",\"line_width\":2,\"x\":{\"field\":\"Ticker\"},\"y\":{\"field\":\"value\"}},\"id\":\"1063\",\"type\":\"Line\"},{\"attributes\":{\"label\":{\"value\":\"Prediction\"},\"renderers\":[{\"id\":\"1049\"}]},\"id\":\"1062\",\"type\":\"LegendItem\"},{\"attributes\":{\"end\":11761875337.829184,\"reset_end\":11761875337.829184,\"reset_start\":-1069261394.3481076,\"start\":-1069261394.3481076,\"tags\":[[[\"value\",\"value\",null]]]},\"id\":\"1005\",\"type\":\"Range1d\"},{\"attributes\":{},\"id\":\"1039\",\"type\":\"AllLabels\"},{\"attributes\":{\"line_color\":\"#fc4f30\",\"line_width\":2,\"x\":{\"field\":\"Ticker\"},\"y\":{\"field\":\"value\"}},\"id\":\"1085\",\"type\":\"Line\"},{\"attributes\":{},\"id\":\"1038\",\"type\":\"CategoricalTickFormatter\"},{\"attributes\":{\"margin\":[5,5,5,5],\"name\":\"HSpacer01706\",\"sizing_mode\":\"stretch_width\"},\"id\":\"1194\",\"type\":\"Spacer\"},{\"attributes\":{\"below\":[{\"id\":\"1017\"}],\"center\":[{\"id\":\"1019\"},{\"id\":\"1023\"}],\"height\":300,\"left\":[{\"id\":\"1020\"}],\"margin\":[5,5,5,5],\"min_border_bottom\":10,\"min_border_left\":10,\"min_border_right\":10,\"min_border_top\":10,\"renderers\":[{\"id\":\"1049\"},{\"id\":\"1070\"}],\"right\":[{\"id\":\"1061\"}],\"sizing_mode\":\"fixed\",\"title\":{\"id\":\"1009\"},\"toolbar\":{\"id\":\"1030\"},\"width\":700,\"x_range\":{\"id\":\"1004\"},\"x_scale\":{\"id\":\"1013\"},\"y_range\":{\"id\":\"1005\"},\"y_scale\":{\"id\":\"1015\"}},\"id\":\"1008\",\"subtype\":\"Figure\",\"type\":\"Plot\"},{\"attributes\":{\"source\":{\"id\":\"1043\"}},\"id\":\"1050\",\"type\":\"CDSView\"},{\"attributes\":{\"bottom_units\":\"screen\",\"coordinates\":null,\"fill_alpha\":0.5,\"fill_color\":\"lightgrey\",\"group\":null,\"left_units\":\"screen\",\"level\":\"overlay\",\"line_alpha\":1.0,\"line_color\":\"black\",\"line_dash\":[4,4],\"line_width\":2,\"right_units\":\"screen\",\"syncable\":false,\"top_units\":\"screen\"},\"id\":\"1029\",\"type\":\"BoxAnnotation\"},{\"attributes\":{\"line_alpha\":0.2,\"line_color\":\"#30a2da\",\"line_width\":2,\"x\":{\"field\":\"Ticker\"},\"y\":{\"field\":\"value\"}},\"id\":\"1048\",\"type\":\"Line\"}],\"root_ids\":[\"1002\"]},\"title\":\"Bokeh Application\",\"version\":\"2.4.2\"}};\n",
       "    var render_items = [{\"docid\":\"d5bb1ba4-d9ef-4f40-ac48-99face27f834\",\"root_ids\":[\"1002\"],\"roots\":{\"1002\":\"712f2f53-cd49-4b43-9e24-658618b94623\"}}];\n",
       "    root.Bokeh.embed.embed_items_notebook(docs_json, render_items);\n",
       "  }\n",
       "  if (root.Bokeh !== undefined && root.Bokeh.Panel !== undefined) {\n",
       "    embed_document(root);\n",
       "  } else {\n",
       "    var attempts = 0;\n",
       "    var timer = setInterval(function(root) {\n",
       "      if (root.Bokeh !== undefined && root.Bokeh.Panel !== undefined) {\n",
       "        clearInterval(timer);\n",
       "        embed_document(root);\n",
       "      } else if (document.readyState == \"complete\") {\n",
       "        attempts++;\n",
       "        if (attempts > 200) {\n",
       "          clearInterval(timer);\n",
       "          console.log(\"Bokeh: ERROR: Unable to run BokehJS code because BokehJS library is missing\");\n",
       "        }\n",
       "      }\n",
       "    }, 25, root)\n",
       "  }\n",
       "})(window);</script>"
      ],
      "text/plain": [
       ":NdOverlay   [Variable]\n",
       "   :Curve   [Ticker]   (value)"
      ]
     },
     "execution_count": 39,
     "metadata": {
      "application/vnd.holoviews_exec.v0+json": {
       "id": "1002"
      }
     },
     "output_type": "execute_result"
    }
   ],
   "source": [
    "results.hvplot(title=\"XG Boost Model on Market Capitalization - 37 Predictions\", rot=60)"
   ]
  },
  {
   "cell_type": "code",
   "execution_count": 40,
   "id": "906f5885-21cc-4988-83da-80e38180d687",
   "metadata": {},
   "outputs": [
    {
     "name": "stdout",
     "output_type": "stream",
     "text": [
      "Train Score: 0.011363636363636364\n"
     ]
    },
    {
     "ename": "ValueError",
     "evalue": "Classification metrics can't handle a mix of continuous and binary targets",
     "output_type": "error",
     "traceback": [
      "\u001b[0;31m---------------------------------------------------------------------------\u001b[0m",
      "\u001b[0;31mValueError\u001b[0m                                Traceback (most recent call last)",
      "Input \u001b[0;32mIn [40]\u001b[0m, in \u001b[0;36m<cell line: 4>\u001b[0;34m()\u001b[0m\n\u001b[1;32m      2\u001b[0m reg \u001b[38;5;241m=\u001b[39m XGBClassifier(n_estimators \u001b[38;5;241m=\u001b[39m \u001b[38;5;241m500\u001b[39m, learning_rate \u001b[38;5;241m=\u001b[39m \u001b[38;5;241m0.1\u001b[39m, max_depth \u001b[38;5;241m=\u001b[39m \u001b[38;5;241m3\u001b[39m, random_state\u001b[38;5;241m=\u001b[39m\u001b[38;5;241m1\u001b[39m)\u001b[38;5;241m.\u001b[39mfit(X_train_scaled, y_train)\n\u001b[1;32m      3\u001b[0m \u001b[38;5;28mprint\u001b[39m(\u001b[38;5;124mf\u001b[39m\u001b[38;5;124m'\u001b[39m\u001b[38;5;124mTrain Score: \u001b[39m\u001b[38;5;132;01m{\u001b[39;00mreg\u001b[38;5;241m.\u001b[39mscore(X_train_scaled, y_train)\u001b[38;5;132;01m}\u001b[39;00m\u001b[38;5;124m'\u001b[39m)\n\u001b[0;32m----> 4\u001b[0m \u001b[38;5;28mprint\u001b[39m(\u001b[38;5;124mf\u001b[39m\u001b[38;5;124m'\u001b[39m\u001b[38;5;124mTest Score: \u001b[39m\u001b[38;5;132;01m{\u001b[39;00mreg\u001b[38;5;241m.\u001b[39mscore(X_test_scaled, y_test)\u001b[38;5;132;01m}\u001b[39;00m\u001b[38;5;124m'\u001b[39m)\n",
      "File \u001b[0;32m/opt/homebrew/Caskroom/miniforge/base/envs/dev/lib/python3.9/site-packages/sklearn/base.py:666\u001b[0m, in \u001b[0;36mClassifierMixin.score\u001b[0;34m(self, X, y, sample_weight)\u001b[0m\n\u001b[1;32m    641\u001b[0m \u001b[38;5;124;03m\"\"\"\u001b[39;00m\n\u001b[1;32m    642\u001b[0m \u001b[38;5;124;03mReturn the mean accuracy on the given test data and labels.\u001b[39;00m\n\u001b[1;32m    643\u001b[0m \n\u001b[0;32m   (...)\u001b[0m\n\u001b[1;32m    662\u001b[0m \u001b[38;5;124;03m    Mean accuracy of ``self.predict(X)`` wrt. `y`.\u001b[39;00m\n\u001b[1;32m    663\u001b[0m \u001b[38;5;124;03m\"\"\"\u001b[39;00m\n\u001b[1;32m    664\u001b[0m \u001b[38;5;28;01mfrom\u001b[39;00m \u001b[38;5;21;01m.\u001b[39;00m\u001b[38;5;21;01mmetrics\u001b[39;00m \u001b[38;5;28;01mimport\u001b[39;00m accuracy_score\n\u001b[0;32m--> 666\u001b[0m \u001b[38;5;28;01mreturn\u001b[39;00m \u001b[43maccuracy_score\u001b[49m\u001b[43m(\u001b[49m\u001b[43my\u001b[49m\u001b[43m,\u001b[49m\u001b[43m \u001b[49m\u001b[38;5;28;43mself\u001b[39;49m\u001b[38;5;241;43m.\u001b[39;49m\u001b[43mpredict\u001b[49m\u001b[43m(\u001b[49m\u001b[43mX\u001b[49m\u001b[43m)\u001b[49m\u001b[43m,\u001b[49m\u001b[43m \u001b[49m\u001b[43msample_weight\u001b[49m\u001b[38;5;241;43m=\u001b[39;49m\u001b[43msample_weight\u001b[49m\u001b[43m)\u001b[49m\n",
      "File \u001b[0;32m/opt/homebrew/Caskroom/miniforge/base/envs/dev/lib/python3.9/site-packages/sklearn/metrics/_classification.py:211\u001b[0m, in \u001b[0;36maccuracy_score\u001b[0;34m(y_true, y_pred, normalize, sample_weight)\u001b[0m\n\u001b[1;32m    145\u001b[0m \u001b[38;5;124;03m\"\"\"Accuracy classification score.\u001b[39;00m\n\u001b[1;32m    146\u001b[0m \n\u001b[1;32m    147\u001b[0m \u001b[38;5;124;03mIn multilabel classification, this function computes subset accuracy:\u001b[39;00m\n\u001b[0;32m   (...)\u001b[0m\n\u001b[1;32m    207\u001b[0m \u001b[38;5;124;03m0.5\u001b[39;00m\n\u001b[1;32m    208\u001b[0m \u001b[38;5;124;03m\"\"\"\u001b[39;00m\n\u001b[1;32m    210\u001b[0m \u001b[38;5;66;03m# Compute accuracy for each possible representation\u001b[39;00m\n\u001b[0;32m--> 211\u001b[0m y_type, y_true, y_pred \u001b[38;5;241m=\u001b[39m \u001b[43m_check_targets\u001b[49m\u001b[43m(\u001b[49m\u001b[43my_true\u001b[49m\u001b[43m,\u001b[49m\u001b[43m \u001b[49m\u001b[43my_pred\u001b[49m\u001b[43m)\u001b[49m\n\u001b[1;32m    212\u001b[0m check_consistent_length(y_true, y_pred, sample_weight)\n\u001b[1;32m    213\u001b[0m \u001b[38;5;28;01mif\u001b[39;00m y_type\u001b[38;5;241m.\u001b[39mstartswith(\u001b[38;5;124m\"\u001b[39m\u001b[38;5;124mmultilabel\u001b[39m\u001b[38;5;124m\"\u001b[39m):\n",
      "File \u001b[0;32m/opt/homebrew/Caskroom/miniforge/base/envs/dev/lib/python3.9/site-packages/sklearn/metrics/_classification.py:93\u001b[0m, in \u001b[0;36m_check_targets\u001b[0;34m(y_true, y_pred)\u001b[0m\n\u001b[1;32m     90\u001b[0m     y_type \u001b[38;5;241m=\u001b[39m {\u001b[38;5;124m\"\u001b[39m\u001b[38;5;124mmulticlass\u001b[39m\u001b[38;5;124m\"\u001b[39m}\n\u001b[1;32m     92\u001b[0m \u001b[38;5;28;01mif\u001b[39;00m \u001b[38;5;28mlen\u001b[39m(y_type) \u001b[38;5;241m>\u001b[39m \u001b[38;5;241m1\u001b[39m:\n\u001b[0;32m---> 93\u001b[0m     \u001b[38;5;28;01mraise\u001b[39;00m \u001b[38;5;167;01mValueError\u001b[39;00m(\n\u001b[1;32m     94\u001b[0m         \u001b[38;5;124m\"\u001b[39m\u001b[38;5;124mClassification metrics can\u001b[39m\u001b[38;5;124m'\u001b[39m\u001b[38;5;124mt handle a mix of \u001b[39m\u001b[38;5;132;01m{0}\u001b[39;00m\u001b[38;5;124m and \u001b[39m\u001b[38;5;132;01m{1}\u001b[39;00m\u001b[38;5;124m targets\u001b[39m\u001b[38;5;124m\"\u001b[39m\u001b[38;5;241m.\u001b[39mformat(\n\u001b[1;32m     95\u001b[0m             type_true, type_pred\n\u001b[1;32m     96\u001b[0m         )\n\u001b[1;32m     97\u001b[0m     )\n\u001b[1;32m     99\u001b[0m \u001b[38;5;66;03m# We can't have more than one value on y_type => The set is no more needed\u001b[39;00m\n\u001b[1;32m    100\u001b[0m y_type \u001b[38;5;241m=\u001b[39m y_type\u001b[38;5;241m.\u001b[39mpop()\n",
      "\u001b[0;31mValueError\u001b[0m: Classification metrics can't handle a mix of continuous and binary targets"
     ]
    }
   ],
   "source": [
    "# Train/Test Scores\n",
    "reg = XGBClassifier(n_estimators = 500, learning_rate = 0.1, max_depth = 3, random_state=1).fit(X_train_scaled, y_train)\n",
    "print(f'Train Score: {reg.score(X_train_scaled, y_train)}')\n",
    "print(f'Test Score: {reg.score(X_test_scaled, y_test)}')"
   ]
  },
  {
   "cell_type": "code",
   "execution_count": null,
   "id": "6e872b77-00b4-4fc9-8c4c-2d3937e85ab0",
   "metadata": {},
   "outputs": [],
   "source": [
    "# Predict the MarketCap for (ANET) values\n",
    "reg.predict(np.array([x_test_list]))"
   ]
  },
  {
   "cell_type": "markdown",
   "id": "c5ac96ab-e583-4530-a823-933b804097f3",
   "metadata": {},
   "source": [
    "## Save the Model & Scaler files"
   ]
  },
  {
   "cell_type": "code",
   "execution_count": 17,
   "id": "c1bdfc40-3934-4c7b-b8a5-2b451b32cf2a",
   "metadata": {},
   "outputs": [],
   "source": [
    "# SAVE the model & scaler\n",
    "dump(rfr, open('model/XGB_model.pkl', 'wb'))\n",
    "dump(scaler, open('model/XGB_scaler.pkl', 'wb'))"
   ]
  },
  {
   "cell_type": "markdown",
   "id": "be17d8e9-1534-4536-90a7-f06750518eba",
   "metadata": {},
   "source": [
    "## Load the Model & Scaler, then Predict!"
   ]
  },
  {
   "cell_type": "code",
   "execution_count": 18,
   "id": "2019d2d4-7e51-4821-91b7-61f2b3fb2aba",
   "metadata": {},
   "outputs": [],
   "source": [
    "# load the model & scaler\n",
    "loaded_model = load(open('model/XGB_model.pkl', 'rb'))\n",
    "loaded_scaler = load(open('model/XGB_scaler.pkl', 'rb'))"
   ]
  },
  {
   "cell_type": "code",
   "execution_count": 19,
   "id": "be7230e6-ed73-4728-9a97-2a53e7527825",
   "metadata": {},
   "outputs": [],
   "source": [
    "# Run the loaded scaler\n",
    "# If this is run within this notebook, the results will be off. X_test has already been scaled a few cell above.\n",
    "X_test_scaled = loaded_scaler.transform(X_test)"
   ]
  },
  {
   "cell_type": "code",
   "execution_count": 20,
   "id": "e3e8be35-4b15-4871-96bf-67ab2e235ac9",
   "metadata": {},
   "outputs": [
    {
     "data": {
      "text/plain": [
       "array([4.55678035e+10, 3.71534086e+11, 3.01370413e+10, 1.70548255e+11,\n",
       "       2.48400369e+11, 1.73239760e+11, 2.69406253e+10, 2.70433259e+10,\n",
       "       8.29088844e+10, 1.82990623e+10, 6.00030689e+10, 1.50467909e+11,\n",
       "       2.75617035e+10, 1.58300649e+11, 2.80853872e+10, 1.18603796e+11,\n",
       "       1.13059803e+11, 1.75907590e+10, 9.13526615e+10, 1.14896142e+11,\n",
       "       3.31046706e+11, 2.69637864e+10, 3.12037385e+10])"
      ]
     },
     "execution_count": 20,
     "metadata": {},
     "output_type": "execute_result"
    }
   ],
   "source": [
    "## Predict!\n",
    "predictions = loaded_model.predict(X_test_scaled)\n",
    "predictions"
   ]
  },
  {
   "cell_type": "code",
   "execution_count": 21,
   "id": "4edecaf1-4596-46d7-a847-0f611a471a95",
   "metadata": {},
   "outputs": [
    {
     "data": {},
     "metadata": {},
     "output_type": "display_data"
    },
    {
     "data": {
      "application/vnd.holoviews_exec.v0+json": "",
      "text/html": [
       "<div id='1256'>\n",
       "\n",
       "\n",
       "\n",
       "\n",
       "\n",
       "  <div class=\"bk-root\" id=\"27b60159-056c-4004-bdf0-9f74dcea94f3\" data-root-id=\"1256\"></div>\n",
       "</div>\n",
       "<script type=\"application/javascript\">(function(root) {\n",
       "  function embed_document(root) {\n",
       "    var docs_json = {\"42a8b280-4738-4933-bc3f-9fa3ee391ea9\":{\"defs\":[{\"extends\":null,\"module\":null,\"name\":\"ReactiveHTML1\",\"overrides\":[],\"properties\":[]},{\"extends\":null,\"module\":null,\"name\":\"FlexBox1\",\"overrides\":[],\"properties\":[{\"default\":\"flex-start\",\"kind\":null,\"name\":\"align_content\"},{\"default\":\"flex-start\",\"kind\":null,\"name\":\"align_items\"},{\"default\":\"row\",\"kind\":null,\"name\":\"flex_direction\"},{\"default\":\"wrap\",\"kind\":null,\"name\":\"flex_wrap\"},{\"default\":\"flex-start\",\"kind\":null,\"name\":\"justify_content\"}]},{\"extends\":null,\"module\":null,\"name\":\"GridStack1\",\"overrides\":[],\"properties\":[{\"default\":\"warn\",\"kind\":null,\"name\":\"mode\"},{\"default\":null,\"kind\":null,\"name\":\"ncols\"},{\"default\":null,\"kind\":null,\"name\":\"nrows\"},{\"default\":true,\"kind\":null,\"name\":\"allow_resize\"},{\"default\":true,\"kind\":null,\"name\":\"allow_drag\"},{\"default\":[],\"kind\":null,\"name\":\"state\"}]},{\"extends\":null,\"module\":null,\"name\":\"click1\",\"overrides\":[],\"properties\":[{\"default\":\"\",\"kind\":null,\"name\":\"terminal_output\"},{\"default\":\"\",\"kind\":null,\"name\":\"debug_name\"},{\"default\":0,\"kind\":null,\"name\":\"clears\"}]},{\"extends\":null,\"module\":null,\"name\":\"TemplateActions1\",\"overrides\":[],\"properties\":[{\"default\":0,\"kind\":null,\"name\":\"open_modal\"},{\"default\":0,\"kind\":null,\"name\":\"close_modal\"}]},{\"extends\":null,\"module\":null,\"name\":\"MaterialTemplateActions1\",\"overrides\":[],\"properties\":[{\"default\":0,\"kind\":null,\"name\":\"open_modal\"},{\"default\":0,\"kind\":null,\"name\":\"close_modal\"}]}],\"roots\":{\"references\":[{\"attributes\":{\"data\":{\"0\":{\"__ndarray__\":\"G9N3ABs4JULOaPkPSqBVQm3GzwU7ERxC8Hro67vaQ0Lm8phq6OpMQlfM/nnyKkRCjzXiRiUXGUIaBzafoS8ZQgcD3S3BTTNCLXEUIdYKEUIt4wVY7PArQn8nMQpLhEFCk4V24DirGUKHGU8bum1CQjtMaP8TKBpC9+YtTFadO0JNjliv41I6QgLhULn2YRBC45Lf/QpFNULp8oX9V8A6QjSWvvb6RFNCE+Yy6qocGUKvZGENjQ8dQg==\",\"dtype\":\"float64\",\"order\":\"little\",\"shape\":[23]},\"A_0\":{\"__ndarray__\":\"G9N3ABs4JULOaPkPSqBVQm3GzwU7ERxC8Hro67vaQ0Lm8phq6OpMQlfM/nnyKkRCjzXiRiUXGUIaBzafoS8ZQgcD3S3BTTNCLXEUIdYKEUIt4wVY7PArQn8nMQpLhEFCk4V24DirGUKHGU8bum1CQjtMaP8TKBpC9+YtTFadO0JNjliv41I6QgLhULn2YRBC45Lf/QpFNULp8oX9V8A6QjSWvvb6RFNCE+Yy6qocGUKvZGENjQ8dQg==\",\"dtype\":\"float64\",\"order\":\"little\",\"shape\":[23]},\"index\":[0,1,2,3,4,5,6,7,8,9,10,11,12,13,14,15,16,17,18,19,20,21,22]},\"selected\":{\"id\":\"1292\"},\"selection_policy\":{\"id\":\"1313\"}},\"id\":\"1291\",\"type\":\"ColumnDataSource\"},{\"attributes\":{\"axis\":{\"id\":\"1274\"},\"coordinates\":null,\"dimension\":1,\"grid_line_color\":null,\"group\":null,\"ticker\":null},\"id\":\"1277\",\"type\":\"Grid\"},{\"attributes\":{\"source\":{\"id\":\"1291\"}},\"id\":\"1298\",\"type\":\"CDSView\"},{\"attributes\":{},\"id\":\"1313\",\"type\":\"UnionRenderers\"},{\"attributes\":{},\"id\":\"1275\",\"type\":\"BasicTicker\"},{\"attributes\":{\"coordinates\":null,\"group\":null,\"text_color\":\"black\",\"text_font_size\":\"12pt\"},\"id\":\"1262\",\"type\":\"Title\"},{\"attributes\":{\"callback\":null,\"renderers\":[{\"id\":\"1297\"}],\"tags\":[\"hv_created\"],\"tooltips\":[[\"index\",\"@{index}\"],[\"0\",\"@{A_0}\"]]},\"id\":\"1260\",\"type\":\"HoverTool\"},{\"attributes\":{},\"id\":\"1266\",\"type\":\"LinearScale\"},{\"attributes\":{},\"id\":\"1305\",\"type\":\"AllLabels\"},{\"attributes\":{},\"id\":\"1304\",\"type\":\"BasicTickFormatter\"},{\"attributes\":{},\"id\":\"1301\",\"type\":\"BasicTickFormatter\"},{\"attributes\":{\"line_color\":\"#30a2da\",\"line_width\":2,\"x\":{\"field\":\"index\"},\"y\":{\"field\":\"0\"}},\"id\":\"1299\",\"type\":\"Line\"},{\"attributes\":{\"coordinates\":null,\"data_source\":{\"id\":\"1291\"},\"glyph\":{\"id\":\"1294\"},\"group\":null,\"hover_glyph\":null,\"muted_glyph\":{\"id\":\"1296\"},\"nonselection_glyph\":{\"id\":\"1295\"},\"selection_glyph\":{\"id\":\"1299\"},\"view\":{\"id\":\"1298\"}},\"id\":\"1297\",\"type\":\"GlyphRenderer\"},{\"attributes\":{\"tools\":[{\"id\":\"1260\"},{\"id\":\"1278\"},{\"id\":\"1279\"},{\"id\":\"1280\"},{\"id\":\"1281\"},{\"id\":\"1282\"}]},\"id\":\"1284\",\"type\":\"Toolbar\"},{\"attributes\":{\"axis\":{\"id\":\"1270\"},\"coordinates\":null,\"grid_line_color\":null,\"group\":null,\"ticker\":null},\"id\":\"1273\",\"type\":\"Grid\"},{\"attributes\":{\"bottom_units\":\"screen\",\"coordinates\":null,\"fill_alpha\":0.5,\"fill_color\":\"lightgrey\",\"group\":null,\"left_units\":\"screen\",\"level\":\"overlay\",\"line_alpha\":1.0,\"line_color\":\"black\",\"line_dash\":[4,4],\"line_width\":2,\"right_units\":\"screen\",\"syncable\":false,\"top_units\":\"screen\"},\"id\":\"1283\",\"type\":\"BoxAnnotation\"},{\"attributes\":{},\"id\":\"1278\",\"type\":\"SaveTool\"},{\"attributes\":{},\"id\":\"1292\",\"type\":\"Selection\"},{\"attributes\":{\"end\":406928418829.77936,\"reset_end\":406928418829.77936,\"reset_start\":-17803573715.92205,\"start\":-17803573715.92205,\"tags\":[[[\"0\",\"0\",null]]]},\"id\":\"1259\",\"type\":\"Range1d\"},{\"attributes\":{},\"id\":\"1279\",\"type\":\"PanTool\"},{\"attributes\":{\"line_alpha\":0.2,\"line_color\":\"#30a2da\",\"line_width\":2,\"x\":{\"field\":\"index\"},\"y\":{\"field\":\"0\"}},\"id\":\"1296\",\"type\":\"Line\"},{\"attributes\":{},\"id\":\"1282\",\"type\":\"ResetTool\"},{\"attributes\":{\"line_color\":\"#30a2da\",\"line_width\":2,\"x\":{\"field\":\"index\"},\"y\":{\"field\":\"0\"}},\"id\":\"1294\",\"type\":\"Line\"},{\"attributes\":{},\"id\":\"1280\",\"type\":\"WheelZoomTool\"},{\"attributes\":{\"below\":[{\"id\":\"1270\"}],\"center\":[{\"id\":\"1273\"},{\"id\":\"1277\"}],\"height\":300,\"left\":[{\"id\":\"1274\"}],\"margin\":[5,5,5,5],\"min_border_bottom\":10,\"min_border_left\":10,\"min_border_right\":10,\"min_border_top\":10,\"renderers\":[{\"id\":\"1297\"}],\"sizing_mode\":\"fixed\",\"title\":{\"id\":\"1262\"},\"toolbar\":{\"id\":\"1284\"},\"width\":700,\"x_range\":{\"id\":\"1258\"},\"x_scale\":{\"id\":\"1266\"},\"y_range\":{\"id\":\"1259\"},\"y_scale\":{\"id\":\"1268\"}},\"id\":\"1261\",\"subtype\":\"Figure\",\"type\":\"Plot\"},{\"attributes\":{\"overlay\":{\"id\":\"1283\"}},\"id\":\"1281\",\"type\":\"BoxZoomTool\"},{\"attributes\":{},\"id\":\"1271\",\"type\":\"BasicTicker\"},{\"attributes\":{},\"id\":\"1268\",\"type\":\"LinearScale\"},{\"attributes\":{\"margin\":[5,5,5,5],\"name\":\"HSpacer02083\",\"sizing_mode\":\"stretch_width\"},\"id\":\"1326\",\"type\":\"Spacer\"},{\"attributes\":{\"axis_label\":\"0\",\"coordinates\":null,\"formatter\":{\"id\":\"1304\"},\"group\":null,\"major_label_policy\":{\"id\":\"1305\"},\"ticker\":{\"id\":\"1275\"}},\"id\":\"1274\",\"type\":\"LinearAxis\"},{\"attributes\":{\"line_alpha\":0.1,\"line_color\":\"#30a2da\",\"line_width\":2,\"x\":{\"field\":\"index\"},\"y\":{\"field\":\"0\"}},\"id\":\"1295\",\"type\":\"Line\"},{\"attributes\":{\"axis_label\":\"\",\"coordinates\":null,\"formatter\":{\"id\":\"1301\"},\"group\":null,\"major_label_policy\":{\"id\":\"1302\"},\"ticker\":{\"id\":\"1271\"}},\"id\":\"1270\",\"type\":\"LinearAxis\"},{\"attributes\":{},\"id\":\"1302\",\"type\":\"AllLabels\"},{\"attributes\":{\"margin\":[5,5,5,5],\"name\":\"HSpacer02082\",\"sizing_mode\":\"stretch_width\"},\"id\":\"1257\",\"type\":\"Spacer\"},{\"attributes\":{\"end\":22.0,\"reset_end\":22.0,\"reset_start\":0.0,\"tags\":[[[\"index\",\"index\",null]]]},\"id\":\"1258\",\"type\":\"Range1d\"},{\"attributes\":{\"children\":[{\"id\":\"1257\"},{\"id\":\"1261\"},{\"id\":\"1326\"}],\"margin\":[0,0,0,0],\"name\":\"Row02078\",\"tags\":[\"embedded\"]},\"id\":\"1256\",\"type\":\"Row\"}],\"root_ids\":[\"1256\"]},\"title\":\"Bokeh Application\",\"version\":\"2.4.2\"}};\n",
       "    var render_items = [{\"docid\":\"42a8b280-4738-4933-bc3f-9fa3ee391ea9\",\"root_ids\":[\"1256\"],\"roots\":{\"1256\":\"27b60159-056c-4004-bdf0-9f74dcea94f3\"}}];\n",
       "    root.Bokeh.embed.embed_items_notebook(docs_json, render_items);\n",
       "  }\n",
       "  if (root.Bokeh !== undefined && root.Bokeh.Panel !== undefined) {\n",
       "    embed_document(root);\n",
       "  } else {\n",
       "    var attempts = 0;\n",
       "    var timer = setInterval(function(root) {\n",
       "      if (root.Bokeh !== undefined && root.Bokeh.Panel !== undefined) {\n",
       "        clearInterval(timer);\n",
       "        embed_document(root);\n",
       "      } else if (document.readyState == \"complete\") {\n",
       "        attempts++;\n",
       "        if (attempts > 200) {\n",
       "          clearInterval(timer);\n",
       "          console.log(\"Bokeh: ERROR: Unable to run BokehJS code because BokehJS library is missing\");\n",
       "        }\n",
       "      }\n",
       "    }, 25, root)\n",
       "  }\n",
       "})(window);</script>"
      ],
      "text/plain": [
       ":Curve   [index]   (0)"
      ]
     },
     "execution_count": 21,
     "metadata": {
      "application/vnd.holoviews_exec.v0+json": {
       "id": "1256"
      }
     },
     "output_type": "execute_result"
    }
   ],
   "source": [
    "predictions_df = pd.DataFrame(predictions)\n",
    "predictions_df.hvplot()"
   ]
  },
  {
   "cell_type": "code",
   "execution_count": null,
   "id": "f955d505-3cee-4c8b-83e9-8212b5cf77d1",
   "metadata": {},
   "outputs": [],
   "source": []
  }
 ],
 "metadata": {
  "kernelspec": {
   "display_name": "Python (dev)",
   "language": "python",
   "name": "dev"
  },
  "language_info": {
   "codemirror_mode": {
    "name": "ipython",
    "version": 3
   },
   "file_extension": ".py",
   "mimetype": "text/x-python",
   "name": "python",
   "nbconvert_exporter": "python",
   "pygments_lexer": "ipython3",
   "version": "3.9.10"
  }
 },
 "nbformat": 4,
 "nbformat_minor": 5
}
